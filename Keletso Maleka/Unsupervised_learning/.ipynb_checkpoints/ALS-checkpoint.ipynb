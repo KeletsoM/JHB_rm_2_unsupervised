{
 "cells": [
  {
   "cell_type": "code",
   "execution_count": 1,
   "metadata": {
    "_cell_guid": "b1076dfc-b9ad-4769-8c92-a6c4dae69d19",
    "_uuid": "8f2839f25d086af736a60e9eeb907d3b93b6e0e5"
   },
   "outputs": [
    {
     "name": "stdout",
     "output_type": "stream",
     "text": [
      "/kaggle/input/edsa-recommender-system-predict/links.csv\n",
      "/kaggle/input/edsa-recommender-system-predict/train.csv\n",
      "/kaggle/input/edsa-recommender-system-predict/genome_scores.csv\n",
      "/kaggle/input/edsa-recommender-system-predict/tags.csv\n",
      "/kaggle/input/edsa-recommender-system-predict/imdb_data.csv\n",
      "/kaggle/input/edsa-recommender-system-predict/test.csv\n",
      "/kaggle/input/edsa-recommender-system-predict/sample_submission.csv\n",
      "/kaggle/input/edsa-recommender-system-predict/genome_tags.csv\n",
      "/kaggle/input/edsa-recommender-system-predict/movies.csv\n"
     ]
    }
   ],
   "source": [
    "# This Python 3 environment comes with many helpful analytics libraries installed\n",
    "# It is defined by the kaggle/python Docker image: https://github.com/kaggle/docker-python\n",
    "# For example, here's several helpful packages to load\n",
    "\n",
    "import numpy as np # linear algebra\n",
    "import pandas as pd # data processing, CSV file I/O (e.g. pd.read_csv)\n",
    "\n",
    "# Input data files are available in the read-only \"../input/\" directory\n",
    "# For example, running this (by clicking run or pressing Shift+Enter) will list all files under the input directory\n",
    "\n",
    "import os\n",
    "for dirname, _, filenames in os.walk('/kaggle/input'):\n",
    "    for filename in filenames:\n",
    "        print(os.path.join(dirname, filename))\n",
    "\n",
    "# You can write up to 5GB to the current directory (/kaggle/working/) that gets preserved as output when you create a version using \"Save & Run All\" \n",
    "# You can also write temporary files to /kaggle/temp/, but they won't be saved outside of the current session"
   ]
  },
  {
   "cell_type": "markdown",
   "metadata": {},
   "source": [
    "## Alternating Least Squares\n",
    "\n",
    "ALS is a method used in collaborative filtering used in recommendation system. ALS is a matrix factorization technique its called alternating because it uses the concept of latent factors, in a recommender system there are multiple of characteristics that can tie people and products together, the role of the recommender is to take advantage of these latent factors to recommend specific products to people.For a more clearer picture it is noticeable that the phrase \"Least Squares\" is rather familiar from linear regression, in the case of alternating the \"least squares\" phrase is due to the fact that during one iteration one latent factor is kept constant while the other changes then in the next iteration the other latent factor is kept constant and the other is varied, while at the same time minimising the sum of the squared errors. ALS ties together the concept of linear regression and grouping from K-means clustering.\n",
    "\n"
   ]
  },
  {
   "cell_type": "markdown",
   "metadata": {},
   "source": [
    "## Pyspark\n",
    "\n",
    "Pyspark is a python API for Apache Spark which is a big data handling framework written in a language called scala. It makes the use of a distributed system that distributes data to multiple machines or computers.\n",
    "\n",
    "The implimentation of the alternating least squares is made simpler and faster by the pyspark machine learning library."
   ]
  },
  {
   "cell_type": "code",
   "execution_count": 2,
   "metadata": {
    "_cell_guid": "79c7e3d0-c299-4dcb-8224-4455121ee9b0",
    "_uuid": "d629ff2d2480ee46fbb7e2d37f6b5fab8052498a"
   },
   "outputs": [
    {
     "name": "stdout",
     "output_type": "stream",
     "text": [
      "Collecting pyspark\r\n",
      "  Downloading pyspark-3.0.0.tar.gz (204.7 MB)\r\n",
      "\u001b[K     |████████████████████████████████| 204.7 MB 14 kB/s \r\n",
      "\u001b[?25hCollecting py4j==0.10.9\r\n",
      "  Downloading py4j-0.10.9-py2.py3-none-any.whl (198 kB)\r\n",
      "\u001b[K     |████████████████████████████████| 198 kB 53.3 MB/s \r\n",
      "\u001b[?25hBuilding wheels for collected packages: pyspark\r\n",
      "  Building wheel for pyspark (setup.py) ... \u001b[?25l-\b \b\\\b \b|\b \b/\b \b-\b \b\\\b \b|\b \b/\b \b-\b \b\\\b \b|\b \b/\b \b-\b \b\\\b \b|\b \b/\b \b-\b \b\\\b \b|\b \b/\b \b-\b \b\\\b \b|\b \b/\b \b-\b \b\\\b \b|\b \b/\b \b-\b \b\\\b \b|\b \b/\b \b-\b \b\\\b \b|\b \b/\b \b-\b \b\\\b \b|\b \b/\b \b-\b \b\\\b \b|\b \b/\b \b-\b \b\\\b \b|\b \b/\b \b-\b \b\\\b \b|\b \b/\b \b-\b \b\\\b \b|\b \b/\b \b-\b \bdone\r\n",
      "\u001b[?25h  Created wheel for pyspark: filename=pyspark-3.0.0-py2.py3-none-any.whl size=205044182 sha256=f7b5726d752501dd9f467f90e5880d102c771f2d7416263748b954669d216669\r\n",
      "  Stored in directory: /root/.cache/pip/wheels/4e/c5/36/aef1bb711963a619063119cc032176106827a129c0be20e301\r\n",
      "Successfully built pyspark\r\n",
      "Installing collected packages: py4j, pyspark\r\n",
      "Successfully installed py4j-0.10.9 pyspark-3.0.0\r\n"
     ]
    }
   ],
   "source": [
    "!pip install pyspark"
   ]
  },
  {
   "cell_type": "code",
   "execution_count": 3,
   "metadata": {},
   "outputs": [],
   "source": [
    "from pyspark.sql import SparkSession\n",
    "spark = SparkSession.builder.appName('spark-ALS-recomender').getOrCreate()\n"
   ]
  },
  {
   "cell_type": "code",
   "execution_count": 4,
   "metadata": {},
   "outputs": [],
   "source": [
    "from pyspark.sql  import *"
   ]
  },
  {
   "cell_type": "code",
   "execution_count": 5,
   "metadata": {},
   "outputs": [
    {
     "name": "stdout",
     "output_type": "stream",
     "text": [
      "+------+-------+------+----------+\n",
      "|userId|movieId|rating| timestamp|\n",
      "+------+-------+------+----------+\n",
      "|  5163|  57669|   4.0|1518349992|\n",
      "|106343|      5|   4.5|1206238739|\n",
      "|146790|   5459|   5.0|1076215539|\n",
      "|106362|  32296|   2.0|1423042565|\n",
      "|  9041|    366|   3.0| 833375837|\n",
      "|120949|  81768|   3.0|1289595242|\n",
      "| 19630|  62049|   4.0|1246729817|\n",
      "| 21066|   2282|   1.0| 945785907|\n",
      "|117563| 120474|   4.0|1515108225|\n",
      "|144018|   1997|   5.0|1109967647|\n",
      "| 40858|   5025|   3.5|1090061607|\n",
      "| 80119|  92259|   3.5|1435635534|\n",
      "|  6063|  33493|   3.0|1236048966|\n",
      "| 97844|   1784|   3.5|1111630438|\n",
      "| 55909|   3978|   2.5|1111555006|\n",
      "| 12942|  48394|   0.5|1280365881|\n",
      "|161472|   3355|   4.0|1229975011|\n",
      "|117890| 152077|   3.5|1488975758|\n",
      "| 46581| 108190|   2.0|1465961865|\n",
      "| 33970|   1265|   4.0|1463280090|\n",
      "+------+-------+------+----------+\n",
      "only showing top 20 rows\n",
      "\n"
     ]
    }
   ],
   "source": [
    "df = spark.read.csv('/kaggle/input/edsa-recommender-system-predict/train.csv',header=True,inferSchema=True)\n",
    "\n",
    "df.show()"
   ]
  },
  {
   "cell_type": "code",
   "execution_count": 6,
   "metadata": {},
   "outputs": [],
   "source": [
    "from pyspark.ml.recommendation import ALS\n",
    "from pyspark.ml.evaluation import RegressionEvaluator"
   ]
  },
  {
   "cell_type": "code",
   "execution_count": 7,
   "metadata": {},
   "outputs": [],
   "source": [
    "df = df.drop('timestamp')"
   ]
  },
  {
   "cell_type": "code",
   "execution_count": 8,
   "metadata": {},
   "outputs": [
    {
     "name": "stdout",
     "output_type": "stream",
     "text": [
      "+------+-------+------+\n",
      "|userId|movieId|rating|\n",
      "+------+-------+------+\n",
      "|  5163|  57669|   4.0|\n",
      "|106343|      5|   4.5|\n",
      "|146790|   5459|   5.0|\n",
      "|106362|  32296|   2.0|\n",
      "|  9041|    366|   3.0|\n",
      "|120949|  81768|   3.0|\n",
      "| 19630|  62049|   4.0|\n",
      "| 21066|   2282|   1.0|\n",
      "|117563| 120474|   4.0|\n",
      "|144018|   1997|   5.0|\n",
      "| 40858|   5025|   3.5|\n",
      "| 80119|  92259|   3.5|\n",
      "|  6063|  33493|   3.0|\n",
      "| 97844|   1784|   3.5|\n",
      "| 55909|   3978|   2.5|\n",
      "| 12942|  48394|   0.5|\n",
      "|161472|   3355|   4.0|\n",
      "|117890| 152077|   3.5|\n",
      "| 46581| 108190|   2.0|\n",
      "| 33970|   1265|   4.0|\n",
      "+------+-------+------+\n",
      "only showing top 20 rows\n",
      "\n"
     ]
    }
   ],
   "source": [
    "df.show()"
   ]
  },
  {
   "cell_type": "code",
   "execution_count": 9,
   "metadata": {},
   "outputs": [
    {
     "name": "stdout",
     "output_type": "stream",
     "text": [
      "+-------+-----------------+-----------------+------------------+\n",
      "|summary|           userId|          movieId|            rating|\n",
      "+-------+-----------------+-----------------+------------------+\n",
      "|  count|         10000038|         10000038|          10000038|\n",
      "|   mean|81199.08814466505|21389.11161287587|3.5333951730983424|\n",
      "| stddev|46793.58615553294| 39195.7810534155|1.0611240700473992|\n",
      "|    min|                1|                1|               0.5|\n",
      "|    max|           162541|           209171|               5.0|\n",
      "+-------+-----------------+-----------------+------------------+\n",
      "\n"
     ]
    }
   ],
   "source": [
    "df.describe().show()"
   ]
  },
  {
   "cell_type": "code",
   "execution_count": 10,
   "metadata": {},
   "outputs": [],
   "source": [
    "training,test = df.randomSplit([0.8,0.2])"
   ]
  },
  {
   "cell_type": "code",
   "execution_count": 11,
   "metadata": {},
   "outputs": [],
   "source": [
    "als = ALS(maxIter=5, regParam=0.01, userCol='userId',itemCol='movieId',ratingCol='rating')"
   ]
  },
  {
   "cell_type": "code",
   "execution_count": 12,
   "metadata": {},
   "outputs": [],
   "source": [
    "model = als.fit(df)"
   ]
  },
  {
   "cell_type": "code",
   "execution_count": 13,
   "metadata": {},
   "outputs": [],
   "source": [
    "#predictions = model.transform(test)\n"
   ]
  },
  {
   "cell_type": "code",
   "execution_count": 14,
   "metadata": {},
   "outputs": [],
   "source": [
    "#predictions.show()"
   ]
  },
  {
   "cell_type": "code",
   "execution_count": 15,
   "metadata": {},
   "outputs": [],
   "source": [
    "#evaluator = RegressionEvaluator(metricName='rmse', labelCol='rating',predictionCol='prediction')"
   ]
  },
  {
   "cell_type": "code",
   "execution_count": 16,
   "metadata": {},
   "outputs": [],
   "source": [
    "\n",
    "#rmse = evaluator.evaluate(predictions.na.drop())\n",
    "#print('RMSE')\n",
    "#print(rmse)"
   ]
  },
  {
   "cell_type": "code",
   "execution_count": 17,
   "metadata": {},
   "outputs": [
    {
     "name": "stdout",
     "output_type": "stream",
     "text": [
      "+------+-------+\n",
      "|userId|movieId|\n",
      "+------+-------+\n",
      "|     1|   2011|\n",
      "|     1|   4144|\n",
      "|     1|   5767|\n",
      "|     1|   6711|\n",
      "|     1|   7318|\n",
      "|     1|   8405|\n",
      "|     1|   8786|\n",
      "|     2|    150|\n",
      "|     2|    356|\n",
      "|     2|    497|\n",
      "|     2|    588|\n",
      "|     2|    653|\n",
      "|     2|   1080|\n",
      "|     2|   1196|\n",
      "|     2|   1198|\n",
      "|     2|   1201|\n",
      "|     2|   1299|\n",
      "|     2|   1485|\n",
      "|     2|   1580|\n",
      "|     2|   1693|\n",
      "+------+-------+\n",
      "only showing top 20 rows\n",
      "\n"
     ]
    }
   ],
   "source": [
    "test = spark.read.csv('/kaggle/input/edsa-recommender-system-predict/test.csv',header=True,inferSchema=True)\n",
    "test.show()"
   ]
  },
  {
   "cell_type": "code",
   "execution_count": 18,
   "metadata": {},
   "outputs": [],
   "source": [
    "pred = model.transform(test)"
   ]
  },
  {
   "cell_type": "code",
   "execution_count": 19,
   "metadata": {},
   "outputs": [
    {
     "name": "stdout",
     "output_type": "stream",
     "text": [
      "+------+-------+----------+\n",
      "|userId|movieId|prediction|\n",
      "+------+-------+----------+\n",
      "| 35969|    148|   3.09262|\n",
      "| 31376|    148| 2.0591314|\n",
      "| 64112|    148|  3.134615|\n",
      "|128124|    148| 3.2705293|\n",
      "| 14831|    148| 3.0384703|\n",
      "| 66907|    148| 4.5857143|\n",
      "|135438|    148|  2.391111|\n",
      "| 25664|    148| 2.3893936|\n",
      "|162516|    148| 2.9162939|\n",
      "|132855|    148| 3.9835815|\n",
      "| 73078|    148| 3.2176166|\n",
      "| 74794|    148|  2.396445|\n",
      "| 12836|    148| 2.8350325|\n",
      "| 54751|    148|  2.572449|\n",
      "| 50403|    148| 3.1504745|\n",
      "|144862|    148| 2.9798565|\n",
      "| 96892|    148| 1.9652823|\n",
      "| 24974|    148| 3.3477378|\n",
      "|105793|    148| 2.4509814|\n",
      "| 88734|    148| 2.4092011|\n",
      "+------+-------+----------+\n",
      "only showing top 20 rows\n",
      "\n"
     ]
    }
   ],
   "source": [
    "pred.show()"
   ]
  },
  {
   "cell_type": "code",
   "execution_count": 20,
   "metadata": {},
   "outputs": [],
   "source": [
    "pred= pred.toPandas()"
   ]
  },
  {
   "cell_type": "code",
   "execution_count": 21,
   "metadata": {},
   "outputs": [
    {
     "data": {
      "text/html": [
       "<div>\n",
       "<style scoped>\n",
       "    .dataframe tbody tr th:only-of-type {\n",
       "        vertical-align: middle;\n",
       "    }\n",
       "\n",
       "    .dataframe tbody tr th {\n",
       "        vertical-align: top;\n",
       "    }\n",
       "\n",
       "    .dataframe thead th {\n",
       "        text-align: right;\n",
       "    }\n",
       "</style>\n",
       "<table border=\"1\" class=\"dataframe\">\n",
       "  <thead>\n",
       "    <tr style=\"text-align: right;\">\n",
       "      <th></th>\n",
       "      <th>userId</th>\n",
       "      <th>movieId</th>\n",
       "      <th>prediction</th>\n",
       "    </tr>\n",
       "  </thead>\n",
       "  <tbody>\n",
       "    <tr>\n",
       "      <th>0</th>\n",
       "      <td>35969</td>\n",
       "      <td>148</td>\n",
       "      <td>3.092620</td>\n",
       "    </tr>\n",
       "    <tr>\n",
       "      <th>1</th>\n",
       "      <td>31376</td>\n",
       "      <td>148</td>\n",
       "      <td>2.059131</td>\n",
       "    </tr>\n",
       "    <tr>\n",
       "      <th>2</th>\n",
       "      <td>64112</td>\n",
       "      <td>148</td>\n",
       "      <td>3.134615</td>\n",
       "    </tr>\n",
       "    <tr>\n",
       "      <th>3</th>\n",
       "      <td>128124</td>\n",
       "      <td>148</td>\n",
       "      <td>3.270529</td>\n",
       "    </tr>\n",
       "    <tr>\n",
       "      <th>4</th>\n",
       "      <td>14831</td>\n",
       "      <td>148</td>\n",
       "      <td>3.038470</td>\n",
       "    </tr>\n",
       "    <tr>\n",
       "      <th>...</th>\n",
       "      <td>...</td>\n",
       "      <td>...</td>\n",
       "      <td>...</td>\n",
       "    </tr>\n",
       "    <tr>\n",
       "      <th>5000014</th>\n",
       "      <td>47153</td>\n",
       "      <td>203026</td>\n",
       "      <td>0.794844</td>\n",
       "    </tr>\n",
       "    <tr>\n",
       "      <th>5000015</th>\n",
       "      <td>47153</td>\n",
       "      <td>203256</td>\n",
       "      <td>0.389848</td>\n",
       "    </tr>\n",
       "    <tr>\n",
       "      <th>5000016</th>\n",
       "      <td>133854</td>\n",
       "      <td>203256</td>\n",
       "      <td>0.548976</td>\n",
       "    </tr>\n",
       "    <tr>\n",
       "      <th>5000017</th>\n",
       "      <td>53163</td>\n",
       "      <td>203256</td>\n",
       "      <td>0.551642</td>\n",
       "    </tr>\n",
       "    <tr>\n",
       "      <th>5000018</th>\n",
       "      <td>57813</td>\n",
       "      <td>203256</td>\n",
       "      <td>0.494327</td>\n",
       "    </tr>\n",
       "  </tbody>\n",
       "</table>\n",
       "<p>5000019 rows × 3 columns</p>\n",
       "</div>"
      ],
      "text/plain": [
       "         userId  movieId  prediction\n",
       "0         35969      148    3.092620\n",
       "1         31376      148    2.059131\n",
       "2         64112      148    3.134615\n",
       "3        128124      148    3.270529\n",
       "4         14831      148    3.038470\n",
       "...         ...      ...         ...\n",
       "5000014   47153   203026    0.794844\n",
       "5000015   47153   203256    0.389848\n",
       "5000016  133854   203256    0.548976\n",
       "5000017   53163   203256    0.551642\n",
       "5000018   57813   203256    0.494327\n",
       "\n",
       "[5000019 rows x 3 columns]"
      ]
     },
     "execution_count": 21,
     "metadata": {},
     "output_type": "execute_result"
    }
   ],
   "source": [
    "pred"
   ]
  },
  {
   "cell_type": "code",
   "execution_count": 22,
   "metadata": {},
   "outputs": [],
   "source": [
    "pred['Id'] = pred[['userId', 'movieId']].apply(tuple, axis=1)"
   ]
  },
  {
   "cell_type": "code",
   "execution_count": 23,
   "metadata": {},
   "outputs": [],
   "source": [
    "pred['Id'] = pred['Id'].apply(lambda x: str(x[0])+'_'+ str(x[1]))"
   ]
  },
  {
   "cell_type": "code",
   "execution_count": 24,
   "metadata": {},
   "outputs": [],
   "source": [
    "pred = pred.rename(columns={'prediction': 'rating'})"
   ]
  },
  {
   "cell_type": "code",
   "execution_count": 25,
   "metadata": {},
   "outputs": [
    {
     "data": {
      "text/html": [
       "<div>\n",
       "<style scoped>\n",
       "    .dataframe tbody tr th:only-of-type {\n",
       "        vertical-align: middle;\n",
       "    }\n",
       "\n",
       "    .dataframe tbody tr th {\n",
       "        vertical-align: top;\n",
       "    }\n",
       "\n",
       "    .dataframe thead th {\n",
       "        text-align: right;\n",
       "    }\n",
       "</style>\n",
       "<table border=\"1\" class=\"dataframe\">\n",
       "  <thead>\n",
       "    <tr style=\"text-align: right;\">\n",
       "      <th></th>\n",
       "      <th>userId</th>\n",
       "      <th>movieId</th>\n",
       "      <th>rating</th>\n",
       "      <th>Id</th>\n",
       "    </tr>\n",
       "  </thead>\n",
       "  <tbody>\n",
       "    <tr>\n",
       "      <th>0</th>\n",
       "      <td>35969</td>\n",
       "      <td>148</td>\n",
       "      <td>3.092620</td>\n",
       "      <td>35969_148</td>\n",
       "    </tr>\n",
       "    <tr>\n",
       "      <th>1</th>\n",
       "      <td>31376</td>\n",
       "      <td>148</td>\n",
       "      <td>2.059131</td>\n",
       "      <td>31376_148</td>\n",
       "    </tr>\n",
       "    <tr>\n",
       "      <th>2</th>\n",
       "      <td>64112</td>\n",
       "      <td>148</td>\n",
       "      <td>3.134615</td>\n",
       "      <td>64112_148</td>\n",
       "    </tr>\n",
       "    <tr>\n",
       "      <th>3</th>\n",
       "      <td>128124</td>\n",
       "      <td>148</td>\n",
       "      <td>3.270529</td>\n",
       "      <td>128124_148</td>\n",
       "    </tr>\n",
       "    <tr>\n",
       "      <th>4</th>\n",
       "      <td>14831</td>\n",
       "      <td>148</td>\n",
       "      <td>3.038470</td>\n",
       "      <td>14831_148</td>\n",
       "    </tr>\n",
       "  </tbody>\n",
       "</table>\n",
       "</div>"
      ],
      "text/plain": [
       "   userId  movieId    rating          Id\n",
       "0   35969      148  3.092620   35969_148\n",
       "1   31376      148  2.059131   31376_148\n",
       "2   64112      148  3.134615   64112_148\n",
       "3  128124      148  3.270529  128124_148\n",
       "4   14831      148  3.038470   14831_148"
      ]
     },
     "execution_count": 25,
     "metadata": {},
     "output_type": "execute_result"
    }
   ],
   "source": [
    "pred.head()"
   ]
  },
  {
   "cell_type": "code",
   "execution_count": 26,
   "metadata": {},
   "outputs": [
    {
     "data": {
      "text/html": [
       "<div>\n",
       "<style scoped>\n",
       "    .dataframe tbody tr th:only-of-type {\n",
       "        vertical-align: middle;\n",
       "    }\n",
       "\n",
       "    .dataframe tbody tr th {\n",
       "        vertical-align: top;\n",
       "    }\n",
       "\n",
       "    .dataframe thead th {\n",
       "        text-align: right;\n",
       "    }\n",
       "</style>\n",
       "<table border=\"1\" class=\"dataframe\">\n",
       "  <thead>\n",
       "    <tr style=\"text-align: right;\">\n",
       "      <th></th>\n",
       "      <th>Id</th>\n",
       "      <th>rating</th>\n",
       "    </tr>\n",
       "  </thead>\n",
       "  <tbody>\n",
       "    <tr>\n",
       "      <th>0</th>\n",
       "      <td>35969_148</td>\n",
       "      <td>3.092620</td>\n",
       "    </tr>\n",
       "    <tr>\n",
       "      <th>1</th>\n",
       "      <td>31376_148</td>\n",
       "      <td>2.059131</td>\n",
       "    </tr>\n",
       "    <tr>\n",
       "      <th>2</th>\n",
       "      <td>64112_148</td>\n",
       "      <td>3.134615</td>\n",
       "    </tr>\n",
       "    <tr>\n",
       "      <th>3</th>\n",
       "      <td>128124_148</td>\n",
       "      <td>3.270529</td>\n",
       "    </tr>\n",
       "    <tr>\n",
       "      <th>4</th>\n",
       "      <td>14831_148</td>\n",
       "      <td>3.038470</td>\n",
       "    </tr>\n",
       "  </tbody>\n",
       "</table>\n",
       "</div>"
      ],
      "text/plain": [
       "           Id    rating\n",
       "0   35969_148  3.092620\n",
       "1   31376_148  2.059131\n",
       "2   64112_148  3.134615\n",
       "3  128124_148  3.270529\n",
       "4   14831_148  3.038470"
      ]
     },
     "execution_count": 26,
     "metadata": {},
     "output_type": "execute_result"
    }
   ],
   "source": [
    "sub  = pred[['Id', 'rating']]\n",
    "sub.head()"
   ]
  },
  {
   "cell_type": "code",
   "execution_count": null,
   "metadata": {},
   "outputs": [],
   "source": []
  },
  {
   "cell_type": "code",
   "execution_count": 27,
   "metadata": {},
   "outputs": [
    {
     "data": {
      "text/plain": [
       "Id           0\n",
       "rating    6383\n",
       "dtype: int64"
      ]
     },
     "execution_count": 27,
     "metadata": {},
     "output_type": "execute_result"
    }
   ],
   "source": [
    "sub.isna().sum()"
   ]
  },
  {
   "cell_type": "code",
   "execution_count": 28,
   "metadata": {},
   "outputs": [
    {
     "name": "stderr",
     "output_type": "stream",
     "text": [
      "/opt/conda/lib/python3.7/site-packages/pandas/core/generic.py:6245: SettingWithCopyWarning: \n",
      "A value is trying to be set on a copy of a slice from a DataFrame\n",
      "\n",
      "See the caveats in the documentation: https://pandas.pydata.org/pandas-docs/stable/user_guide/indexing.html#returning-a-view-versus-a-copy\n",
      "  self._update_inplace(new_data)\n"
     ]
    }
   ],
   "source": [
    "sub['rating'].fillna(0.5,inplace=True)"
   ]
  },
  {
   "cell_type": "code",
   "execution_count": 29,
   "metadata": {},
   "outputs": [
    {
     "data": {
      "text/plain": [
       "Id        0\n",
       "rating    0\n",
       "dtype: int64"
      ]
     },
     "execution_count": 29,
     "metadata": {},
     "output_type": "execute_result"
    }
   ],
   "source": [
    "sub.isna().sum()"
   ]
  },
  {
   "cell_type": "code",
   "execution_count": 30,
   "metadata": {},
   "outputs": [],
   "source": [
    "sub.to_csv('submission.csv', index=False)"
   ]
  },
  {
   "cell_type": "code",
   "execution_count": null,
   "metadata": {},
   "outputs": [],
   "source": []
  }
 ],
 "metadata": {
  "kernelspec": {
   "display_name": "Python 3",
   "language": "python",
   "name": "python3"
  },
  "language_info": {
   "codemirror_mode": {
    "name": "ipython",
    "version": 3
   },
   "file_extension": ".py",
   "mimetype": "text/x-python",
   "name": "python",
   "nbconvert_exporter": "python",
   "pygments_lexer": "ipython3",
   "version": "3.7.4"
  }
 },
 "nbformat": 4,
 "nbformat_minor": 4
}
