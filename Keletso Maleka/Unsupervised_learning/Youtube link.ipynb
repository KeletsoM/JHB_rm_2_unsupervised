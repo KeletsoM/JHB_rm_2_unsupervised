{
 "cells": [
  {
   "cell_type": "code",
   "execution_count": null,
   "metadata": {},
   "outputs": [],
   "source": [
    "def youtube_link(title):\n",
    "    \n",
    "    \"\"\"This function takes in the title of a movie and returns a Search query link to youtube\n",
    "    \n",
    "    INPUT: ('The Lttle Mermaid')\n",
    "    -----------\n",
    "    \n",
    "    OUTPUT: https://www.youtube.com/results?search_query=The+little+Mermaid&page=1\n",
    "    ----------\n",
    "    \"\"\"\n",
    "    \n",
    "    title = title.replace(' ','+')\n",
    "    base = \"https://www.youtube.com/results?search_query=\"\n",
    "    q = title\n",
    "    page = \"&page=1\"\n",
    "    URL = base + q + page\n",
    "    return URL\n",
    "    "
   ]
  }
 ],
 "metadata": {
  "kernelspec": {
   "display_name": "Python 3",
   "language": "python",
   "name": "python3"
  },
  "language_info": {
   "codemirror_mode": {
    "name": "ipython",
    "version": 3
   },
   "file_extension": ".py",
   "mimetype": "text/x-python",
   "name": "python",
   "nbconvert_exporter": "python",
   "pygments_lexer": "ipython3",
   "version": "3.7.4"
  }
 },
 "nbformat": 4,
 "nbformat_minor": 2
}
