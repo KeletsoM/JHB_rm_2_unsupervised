{
  "nbformat": 4,
  "nbformat_minor": 0,
  "metadata": {
    "colab": {
      "name": "Rough draft Report Notebook.ipynb",
      "provenance": [],
      "toc_visible": true,
      "authorship_tag": "ABX9TyO/Mi299v0/0XpbAcnfzq1l",
      "include_colab_link": true
    },
    "kernelspec": {
      "name": "python3",
      "display_name": "Python 3"
    }
  },
  "cells": [
    {
      "cell_type": "markdown",
      "metadata": {
        "id": "view-in-github",
        "colab_type": "text"
      },
      "source": [
        "<a href=\"https://colab.research.google.com/github/KeletsoM/JHB_rm_2_unsupervised/blob/side-branch/Rough_draft_Report_Notebook.ipynb\" target=\"_parent\"><img src=\"https://colab.research.google.com/assets/colab-badge.svg\" alt=\"Open In Colab\"/></a>"
      ]
    },
    {
      "cell_type": "markdown",
      "metadata": {
        "id": "EltlVcEj9rfW",
        "colab_type": "text"
      },
      "source": [
        "# Introduction"
      ]
    },
    {
      "cell_type": "markdown",
      "metadata": {
        "id": "6jPg6hQRDV6p",
        "colab_type": "text"
      },
      "source": [
        "The purpose of this report is to contstruct a recommender system which will accurately predict how a user will rate a movie they have not yet seen based on historical preferences. The economic value in producing such a system has great commercial impact because it will mean users will enjoy the service which eliminates the process of having to search for your ideal movie to watch, creating brand loyality and also increased revenues as more movies being watched.\n",
        "\n",
        "Because this is unsupervised learning, there is no target response in the data set and thus there are many predictors which will have to be used to identify the relevance of fit to the recommender algorithm. These include genre, rating, budget, director and release date to name a few. \n",
        "\n",
        "For this report, an investigation has to be conducted as to whether a content-based or collaborative filtering approach will be used and therefore, it will be prudent to test both methods and use the one which produces the most accurate results. "
      ]
    },
    {
      "cell_type": "markdown",
      "metadata": {
        "id": "8QaFIFt-QGFj",
        "colab_type": "text"
      },
      "source": [
        "# Data"
      ]
    },
    {
      "cell_type": "markdown",
      "metadata": {
        "id": "B1wlB_PGQKBi",
        "colab_type": "text"
      },
      "source": [
        "\"The data for the MovieLens dataset is maintained by the GroupLens research group in the Department of Computer Science and Engineering at the University of Minnesota. Additional movie content data was legally scraped from IMDB.\" https://www.kaggle.com/c/edsa-recommender-system-predict/data  It consists of:\n",
        "\n",
        "*   genome_scores.csv - a score mapping the strength between movies and tag-related properties.\n",
        "*   genome_tags.csv - user assigned tags for genome-related  scores\n",
        "*   imdb_data.csv - Additional movie metadata scraped from IMDB using the links.csv file.\n",
        "*   links.csv - File providing a mapping between a MovieLens ID and associated IMDB and TMDB IDs.\n",
        "*   sample_submission.csv - Sample of the submission format for the hackathon.\n",
        "*   tags.csv - User assigned for the movies within the dataset.\n",
        "*   test.csv - The test split of the dataset. Contains user and movie IDs with no rating data.\n",
        "*   train.csv - The training split of the dataset. Contains user and movie IDs with associated rating data.\n",
        "\n",
        "\n",
        "\n",
        "\n",
        "\n"
      ]
    },
    {
      "cell_type": "markdown",
      "metadata": {
        "id": "0EIMtfuUbrb_",
        "colab_type": "text"
      },
      "source": [
        "# Importing the libraries"
      ]
    },
    {
      "cell_type": "code",
      "metadata": {
        "id": "3iQApNk4QJcO",
        "colab_type": "code",
        "colab": {}
      },
      "source": [
        "import pandas as pd\n",
        "\n",
        "# Time converter\n",
        "import datetime\n",
        "\n",
        "# To do linear algebra\n",
        "import numpy as np\n",
        "\n",
        "# To create plots\n",
        "import matplotlib.pyplot as plt # data visualization library\n",
        "import seaborn as sns\n",
        "sns.set_style('whitegrid')\n",
        "from wordcloud import WordCloud, STOPWORDS #used to generate world cloud\n",
        "\n",
        "# To create interactive plots\n",
        "from plotly.offline import init_notebook_mode, plot, iplot\n",
        "import plotly.graph_objs as go\n",
        "init_notebook_mode(connected=True)\n",
        "\n",
        "# To shift lists\n",
        "from collections import deque\n",
        "\n",
        "# To compute similarities between vectors\n",
        "from sklearn.metrics import mean_squared_error\n",
        "from sklearn.metrics.pairwise import cosine_similarity\n",
        "from sklearn.feature_extraction.text import TfidfVectorizer\n",
        "from sklearn.decomposition import TruncatedSVD\n",
        "from sklearn.metrics.pairwise import cosine_similarity\n",
        "import random\n",
        "\n",
        "# To use recommender systems\n",
        "import surprise as sp\n",
        "from surprise.model_selection import cross_validate\n",
        "\n",
        "# To stack sparse matrices\n",
        "from scipy.sparse import vstack\n",
        "from scipy import sparse\n",
        "from scipy.sparse import csr_matrix"
      ],
      "execution_count": null,
      "outputs": []
    },
    {
      "cell_type": "markdown",
      "metadata": {
        "id": "VA3DimR5bvxz",
        "colab_type": "text"
      },
      "source": [
        "# Importing the data "
      ]
    },
    {
      "cell_type": "code",
      "metadata": {
        "id": "uJuzclfMbxnX",
        "colab_type": "code",
        "colab": {}
      },
      "source": [
        "train = pd.read_csv('train.csv')\n",
        "test = pd.read_csv('test.csv')\n",
        "movies = pd.read_csv('movies.csv')\n",
        "tags = pd.read_csv('tags.csv')\n",
        "links = pd.read_csv('links.csv')\n",
        "imdb_data = pd.read_csv('imdb_data.csv')\n",
        "genome_tags = pd.read_csv('genome_tags.csv')\n",
        "genome_scores = pd.read_csv('genome_scores.csv')"
      ],
      "execution_count": null,
      "outputs": []
    },
    {
      "cell_type": "markdown",
      "metadata": {
        "id": "_VYCQ4xwb5l8",
        "colab_type": "text"
      },
      "source": [
        "# Data Preprocessing"
      ]
    },
    {
      "cell_type": "markdown",
      "metadata": {
        "id": "C84QEaBUb-wL",
        "colab_type": "text"
      },
      "source": [
        "## Perusing the data"
      ]
    },
    {
      "cell_type": "markdown",
      "metadata": {
        "id": "QfVyqEQU8rd5",
        "colab_type": "text"
      },
      "source": [
        "*Entity relationship diagram"
      ]
    },
    {
      "cell_type": "code",
      "metadata": {
        "id": "CB_SW59tm-qE",
        "colab_type": "code",
        "colab": {}
      },
      "source": [
        "train.info()"
      ],
      "execution_count": null,
      "outputs": []
    },
    {
      "cell_type": "code",
      "metadata": {
        "id": "H7pTsosEnBx_",
        "colab_type": "code",
        "colab": {}
      },
      "source": [
        "train.describe()['rating']"
      ],
      "execution_count": null,
      "outputs": []
    },
    {
      "cell_type": "code",
      "metadata": {
        "id": "jVm6sL2knEZ3",
        "colab_type": "code",
        "colab": {}
      },
      "source": [
        "train['rating'].value_counts()"
      ],
      "execution_count": null,
      "outputs": []
    },
    {
      "cell_type": "code",
      "metadata": {
        "id": "n6Z-TLCinMzH",
        "colab_type": "code",
        "colab": {}
      },
      "source": [
        "# Converting the timestamp to a date \n",
        "train['date'] = train['timestamp'].apply(lambda d: \n",
        "                                         datetime.datetime.fromtimestamp(int(d))\n",
        "                                         .strftime('%Y-%m-%d'))\n",
        "train.drop('timestamp', axis=1, inplace=True)\n",
        "train['date'] = pd.to_datetime(train['date'])\n",
        "train.sort_values(by='date')"
      ],
      "execution_count": null,
      "outputs": []
    },
    {
      "cell_type": "code",
      "metadata": {
        "id": "E_HNUO2nnfzC",
        "colab_type": "code",
        "colab": {}
      },
      "source": [
        "# Check for NULLs\n",
        "print(\"No. of NULL values in our dataframe : \", sum(train.isnull().any()))"
      ],
      "execution_count": null,
      "outputs": []
    },
    {
      "cell_type": "code",
      "metadata": {
        "id": "IsX6WR58nmeW",
        "colab_type": "code",
        "colab": {}
      },
      "source": [
        "# Check for duplicates\n",
        "dup_bool = train.duplicated(['userId','movieId','rating'])\n",
        "dups = sum(dup_bool)\n",
        "print(\"There are {} duplicate rating entries in the data...\".format(dups))"
      ],
      "execution_count": null,
      "outputs": []
    },
    {
      "cell_type": "code",
      "metadata": {
        "id": "SeX9dLUNnrlv",
        "colab_type": "code",
        "colab": {}
      },
      "source": [
        "# Creating an overview of the training data\n",
        "print(\"Overview of training data\")\n",
        "print(\"-\"*50)\n",
        "print(\"\\nTotal No. of ratings :\",train.shape[0])\n",
        "print(\"Total No. of Users   :\", len(np.unique(train.userId)))\n",
        "print(\"Total No. of movies  :\", len(np.unique(train.movieId))"
      ],
      "execution_count": null,
      "outputs": []
    },
    {
      "cell_type": "markdown",
      "metadata": {
        "id": "RMTlw9ImcNxb",
        "colab_type": "text"
      },
      "source": [
        "## EDA"
      ]
    },
    {
      "cell_type": "code",
      "metadata": {
        "id": "gur8tAHhb7wN",
        "colab_type": "code",
        "colab": {}
      },
      "source": [
        "train.groupby('rating')['userId'].count().plot(kind = 'bar', color = 'g',\n",
        "                                               figsize = (8,7))\n",
        "plt.xticks(rotation=85, fontsize = 14)\n",
        "plt.yticks(fontsize = 14)\n",
        "plt.xlabel('Ratings (scale: 0.5 - 5.0)', fontsize=16)\n",
        "plt.ylabel('No. of Ratings', fontsize=16)\n",
        "plt.title('Distribution of User Ratings ',bbox={'facecolor':'k', 'pad':5}\n",
        "          ,color='w',fontsize = 18)\n",
        "plt.show"
      ],
      "execution_count": null,
      "outputs": []
    },
    {
      "cell_type": "code",
      "metadata": {
        "id": "Dp0Q1nsAoT2T",
        "colab_type": "code",
        "colab": {}
      },
      "source": [
        "# Calculate and categorise ratings proportions\n",
        "a = len(train.loc[train['rating']== 0.5]) / len(train)\n",
        "b = len(train.loc[train['rating']==1.0]) / len(train)\n",
        "c = len(train.loc[train['rating']==1.5]) / len(train)\n",
        "d = len(train.loc[train['rating']==2.0]) / len(train)\n",
        "low_ratings= a+b+c+d\n",
        "e = len(train.loc[train['rating']==2.5]) / len(train)\n",
        "f = len(train.loc[train['rating']== 3.0]) / len(train)\n",
        "g = len(train.loc[train['rating']==3.5]) / len(train)\n",
        "medium_ratings= e+f+g\n",
        "h = len(train.loc[train['rating']==4.0]) / len(train)\n",
        "i = len(train.loc[train['rating']==4.5]) / len(train)\n",
        "j = len(train.loc[train['rating']==5.0]) / len(train)\n",
        "high_ratings= h+i+j\n",
        "# Sanity check for checking if ratings proportions equal 100 percent\n",
        "low_ratings+medium_ratings+high_ratings==1"
      ],
      "execution_count": null,
      "outputs": []
    },
    {
      "cell_type": "markdown",
      "metadata": {
        "id": "e-NY5lMjpdU5",
        "colab_type": "text"
      },
      "source": [
        "To view proportions of ratings categories, it is best practice to use pie charts.\n",
        "Below it can be seen that the 4.0 - 5.0 rating carries the most weight at almost 50%. This is an indication that most people who rate movies, are likely to give a higher rating. "
      ]
    },
    {
      "cell_type": "code",
      "metadata": {
        "id": "PnAOFm9Aobdf",
        "colab_type": "code",
        "colab": {}
      },
      "source": [
        "# Creating labels \n",
        "labels = 'Low Ratings (scale: 0.5 - 2.0)', 'Medium Ratings (scale: 2.5 - 3.5)'\n",
        ", 'High Ratings (scale: 4.0 - 5.0)'\n",
        "sizes = [low_ratings, medium_ratings,  high_ratings]\n",
        "explode = (0, 0, 0.1)  # Only \"explore\" the 3rd slice (i.e. 'Anti')\n",
        "\n",
        "# Create pie chart with above labels and calculated class proportions as inputs \n",
        "fig1, ax1 = plt.subplots()\n",
        "ax1.pie(sizes, explode=explode, labels=labels, autopct='%1.1f%%',\n",
        "        shadow=True, startangle=270)\n",
        "\n",
        "# Equal aspect ratio ensures that pie is drawn as a circle\n",
        "ax1.axis('equal') \n",
        "plt.title('Categorised Proportions of User Ratings ',bbox={'facecolor':'k',\n",
        "                                                           'pad':5},color='w'\n",
        "                                                           ,fontsize = 18)\n",
        "plt.show()"
      ],
      "execution_count": null,
      "outputs": []
    },
    {
      "cell_type": "code",
      "metadata": {
        "id": "PkdUiW26o1oe",
        "colab_type": "code",
        "colab": {}
      },
      "source": [
        "# Grouping the data by user\n",
        "no_of_rated_movies_per_user = train.groupby(by='userId')['rating'].count().sort_values(ascending=False)\n",
        "no_of_rated_movies_per_user.describe()"
      ],
      "execution_count": null,
      "outputs": []
    },
    {
      "cell_type": "code",
      "metadata": {
        "id": "VY1cuJHFpAL3",
        "colab_type": "code",
        "colab": {}
      },
      "source": [
        "# Plotting the probability density \n",
        "fig = plt.figure(figsize=plt.figaspect(.3))\n",
        "\n",
        "ax1 = plt.subplot(121)\n",
        "sns.kdeplot(no_of_rated_movies_per_user, shade=True, ax=ax1)\n",
        "plt.ylabel('Probability')\n",
        "plt.xlabel('No of ratings by user')\n",
        "#plt.title(\"PDF\")\n",
        "plt.title(\"Probability density function \\n(PDF))\",bbox={'facecolor':'k',\n",
        "                                                        'pad':5},color='w'\n",
        "                                                        ,fontsize = 16)\n",
        "# Plotting the cumulative probability density\n",
        "ax2 = plt.subplot(122)\n",
        "sns.kdeplot(no_of_rated_movies_per_user, shade=True, cumulative=True,ax=ax2)\n",
        "plt.ylabel('Probability')\n",
        "plt.xlabel('No of ratings by user')\n",
        "plt.title(\"Cumulutive density function \\n(CDF))\",bbox={'facecolor':'k',\n",
        "                                                       'pad':5},color='w'\n",
        "                                                       ,fontsize = 16)\n",
        "\n",
        "plt.show()"
      ],
      "execution_count": null,
      "outputs": []
    },
    {
      "cell_type": "code",
      "metadata": {
        "id": "LZElAX6xqcGS",
        "colab_type": "code",
        "colab": {}
      },
      "source": [
        "# Storing the quantiles as a variable\n",
        "quantiles = no_of_rated_movies_per_user.quantile(np.arange(0,1.01,0.01),\n",
        "                                                 interpolation='higher')"
      ],
      "execution_count": null,
      "outputs": []
    },
    {
      "cell_type": "code",
      "metadata": {
        "id": "joCCgwauqe7g",
        "colab_type": "code",
        "colab": {}
      },
      "source": [
        "# Plotting the quantiles\n",
        "plt.title(\"Quantiles and their values\",bbox={'facecolor':'k', 'pad':5},\n",
        "          color='w',fontsize = 20)\n",
        "quantiles.plot()\n",
        "# quantiles with 0.05 difference\n",
        "plt.scatter(x=quantiles.index[::5], y=quantiles.values[::5], c='orange', \n",
        "            label=\"quantiles with 0.05 intervals\")\n",
        "# quantiles with 0.25 difference\n",
        "plt.scatter(x=quantiles.index[::25], y=quantiles.values[::25], c='m', \n",
        "            label = \"quantiles with 0.25 intervals\")\n",
        "plt.ylabel('No of ratings by user')\n",
        "plt.xlabel('Value at the quantile')\n",
        "plt.legend(loc='best')\n",
        "\n",
        "# annotate the 25th, 50th, 75th and 100th percentile values....\n",
        "for x,y in zip(quantiles.index[::25], quantiles[::25]):\n",
        "    plt.annotate(s=\"({} , {})\".format(x,y), xy=(x,y), xytext=(x-0.05, y+500)\n",
        "                ,fontweight='bold')\n",
        "\n",
        "plt.show()"
      ],
      "execution_count": null,
      "outputs": []
    },
    {
      "cell_type": "code",
      "metadata": {
        "id": "Ir17EGiaqqnH",
        "colab_type": "code",
        "colab": {}
      },
      "source": [
        "# Plotting the numbers ratings per day\n",
        "fig, ax = plt.subplots()\n",
        "sns.countplot(x='day_of_week', data=train, ax=ax, order=result['day_of_week'])\n",
        "plt.title(\"No. of ratings on each day\",bbox={'facecolor':'k', 'pad':5},\n",
        "          color='w',fontsize = 20)\n",
        "plt.ylabel('Total no of ratings')\n",
        "plt.xlabel('')\n",
        "ax.set_yticklabels([human(item, 'M') for item in ax.get_yticks()])\n",
        "plt.show()"
      ],
      "execution_count": null,
      "outputs": []
    },
    {
      "cell_type": "markdown",
      "metadata": {
        "id": "W60PJ89v8Vkp",
        "colab_type": "text"
      },
      "source": [
        "As can be seen, Sunday has the most ratings. This implies that the demand for movies is the highest on Sundays as people will watch a movie and then rate it."
      ]
    },
    {
      "cell_type": "code",
      "metadata": {
        "id": "NWj_5s-1qt-C",
        "colab_type": "code",
        "colab": {}
      },
      "source": [
        "# Rating scale of each day\n",
        "fig = plt.figure(figsize=plt.figaspect(.45))\n",
        "plt.title(\"Typical rating scale on each day\",bbox={'facecolor':'k', 'pad':5},\n",
        "          color='w',fontsize = 20)\n",
        "sns.boxplot(y='rating', x='day_of_week', data=train)\n",
        "plt.show()"
      ],
      "execution_count": null,
      "outputs": []
    },
    {
      "cell_type": "code",
      "metadata": {
        "id": "TcFlPbHbrSVc",
        "colab_type": "code",
        "colab": {}
      },
      "source": [
        "# Average rating per day of week\n",
        "avg_week_df = train.groupby(by=['day_of_week'])['rating'].mean()\n",
        "print(\" Average ratings\")\n",
        "print(\"-\"*30)\n",
        "print(avg_week_df)\n",
        "print(\"\\n\")"
      ],
      "execution_count": null,
      "outputs": []
    },
    {
      "cell_type": "markdown",
      "metadata": {
        "id": "rQAuVCba82u5",
        "colab_type": "text"
      },
      "source": [
        "It can also be noted that movies receive roughly the same average rating irrespective of the day.\n"
      ]
    },
    {
      "cell_type": "markdown",
      "metadata": {
        "id": "FrqNhGnUYlzn",
        "colab_type": "text"
      },
      "source": [
        "The following directors made the most movies in the database"
      ]
    },
    {
      "cell_type": "code",
      "metadata": {
        "id": "Br7kFKld3OdM",
        "colab_type": "code",
        "colab": {
          "base_uri": "https://localhost:8080/",
          "height": 383
        },
        "outputId": "01aaed38-93ae-47c6-881d-9ddff2388d56"
      },
      "source": [
        "# Directors with the most movies\n",
        "most = dftrain['director'].value_counts()[:10].to_frame()\n",
        "most.plot(kind='bar')\n",
        "plt.minorticks_on()\n",
        "plt.grid(which='major', linestyle=':', linewidth='0.5', color='blue')\n",
        "plt.rcParams.update({'font.size': 15})\n",
        "plt.title('10 Directors with most movies')\n",
        "plt.xlabel('Directors',fontsize=15)\n",
        "plt.ylabel('Movie Count',fontsize=15)\n",
        "plt.show()"
      ],
      "execution_count": null,
      "outputs": [
        {
          "output_type": "display_data",
          "data": {
            "image/png": "[encoded data removed]",
            "text/plain": [
              "<Figure size 432x288 with 1 Axes>"
            ]
          },
          "metadata": {
            "tags": [],
            "needs_background": "light"
          }
        }
      ]
    },
    {
      "cell_type": "markdown",
      "metadata": {
        "id": "2rgp8CgdYzwP",
        "colab_type": "text"
      },
      "source": [
        "Out of the most content creating directors, it would be prudent to investigate the popularity ratings. This will assist in establishing which director has the strongest following and how the movies they create get rated and will likely be rated by other users."
      ]
    },
    {
      "cell_type": "code",
      "metadata": {
        "id": "NuKp1StO4TPx",
        "colab_type": "code",
        "colab": {}
      },
      "source": [
        "# What is the top 10 average rating \n",
        "director_list = ['Luc Besson', 'Woody Allen', 'Robert Rodriguez', 'Peter Farrelly', 'Stephen King', 'William Shakespeare', 'Michael Crichton', 'Kevin Smith', 'John Grisham', 'Patrick Melton']\n",
        "dfdirector= dftrain.groupby('director', as_index=False)['rating'].mean()\n",
        "top_10 = dfdirector[dfdirector['director'].isin(director_list)]\n",
        "top_10.set_index('director', inplace= True)"
      ],
      "execution_count": null,
      "outputs": []
    },
    {
      "cell_type": "code",
      "metadata": {
        "id": "61C8vdVF4Svs",
        "colab_type": "code",
        "colab": {
          "base_uri": "https://localhost:8080/",
          "height": 451
        },
        "outputId": "2b37c42f-b959-4d56-ffe9-a1f35ce3a2ff"
      },
      "source": [
        "top_10.plot(kind='bar')\n",
        "plt.minorticks_on()\n",
        "plt.grid(which='major', linestyle=':', linewidth='0.5', color='blue')\n",
        "plt.rcParams.update({'font.size': 15})\n",
        "plt.title('Average rating for Directors with most movies')\n",
        "plt.xlabel('Directors',fontsize=15)\n",
        "plt.ylabel('rating',fontsize=15)\n",
        "plt.show()"
      ],
      "execution_count": null,
      "outputs": [
        {
          "output_type": "display_data",
          "data": {
            "image/png": "[encoded data removed]",
            "text/plain": [
              "<Figure size 432x288 with 1 Axes>"
            ]
          },
          "metadata": {
            "tags": [],
            "needs_background": "light"
          }
        }
      ]
    },
    {
      "cell_type": "markdown",
      "metadata": {
        "id": "8_EzKvrT3m7P",
        "colab_type": "text"
      },
      "source": [
        "Woody Allen received the highest average rating for a director. This is indicative of his movies being enjoyed by the general masses."
      ]
    },
    {
      "cell_type": "markdown",
      "metadata": {
        "id": "SPlVBsRHE6Zm",
        "colab_type": "text"
      },
      "source": [
        "### Word Clouds"
      ]
    },
    {
      "cell_type": "markdown",
      "metadata": {
        "id": "izCIthAXGbHx",
        "colab_type": "text"
      },
      "source": [
        "Using the imdb_data to extract whether there are favourite actors, directors and even plot keywords. In order to do this, firstly, removing puncuations from the plot keywords and the title cast. Then only can the word clouds be plotted"
      ]
    },
    {
      "cell_type": "code",
      "metadata": {
        "id": "jnxekk6AFqRG",
        "colab_type": "code",
        "colab": {}
      },
      "source": [
        "# Setting the text data as string. \n",
        "dfimdb_data[\"title_cast\"] = dfimdb_data[\"title_cast\"].astype('str')\n",
        "dfimdb_data[\"director\"] = dfimdb_data[\"director\"].astype('str')\n",
        "dfimdb_data[\"plot_keywords\"] = dfimdb_data[\"plot_keywords\"].astype('str')"
      ],
      "execution_count": null,
      "outputs": []
    },
    {
      "cell_type": "code",
      "metadata": {
        "id": "RNdUzaWgFvHe",
        "colab_type": "code",
        "colab": {}
      },
      "source": [
        "# Replacing the nan and removing punctuation marks\n",
        "dfimdb_data[\"plot_keywords\"] = dfimdb_data[\"plot_keywords\"].apply(lambda x:\n",
        "                                                                  x.replace('|',' '))\n",
        "dfimdb_data[\"title_cast\"] = dfimdb_data[\"title_cast\"].apply(lambda x:\n",
        "                                                            x.replace(' ',''))\n",
        "dfimdb_data[\"title_cast\"] = dfimdb_data[\"title_cast\"].apply(lambda x:\n",
        "                                                            x.replace('|',' '))\n",
        "dfimdb_data[\"director\"] = dfimdb_data[\"director\"].apply(lambda x:\n",
        "                                                        x.replace(' ',''))\n",
        "dfimdb_data[\"director\"] = dfimdb_data[\"director\"].apply(lambda x:\n",
        "                                                        x.replace('Seefullsummary',''))\n",
        "dfimdb_data[\"director\"] = dfimdb_data[\"director\"].apply(lambda x:\n",
        "                                                        x.replace('nan',''))\n",
        "dfimdb_data[\"title_cast\"] = dfimdb_data[\"title_cast\"].apply(lambda x:\n",
        "                                                            x.replace('nan',''))\n",
        "dfimdb_data[\"plot_keywords\"] = dfimdb_data[\"plot_keywords\"].apply(lambda x:\n",
        "                                                                  x.replace('nan','')"
      ],
      "execution_count": null,
      "outputs": []
    },
    {
      "cell_type": "code",
      "metadata": {
        "id": "esW-3jXgGE9H",
        "colab_type": "code",
        "colab": {}
      },
      "source": [
        "# Storing the director column as a variable\n",
        "directors = ' '.join([text for text in dfimdb_data[\"director\"]])\n",
        "\n",
        "# Word cloud for the overall data checking which directors are prominent\n",
        "wordcloud = WordCloud(width=800, height=500,random_state=21, \n",
        "                      max_font_size=110).generate(directors)\n",
        "\n",
        "#ploting the word cloud\n",
        "plt.figure(figsize=(16,8))\n",
        "plt.imshow(wordcloud, interpolation=\"bilinear\")\n",
        "plt.axis('off')\n",
        "plt.show()"
      ],
      "execution_count": null,
      "outputs": []
    },
    {
      "cell_type": "code",
      "metadata": {
        "id": "IBLu9lDqITGa",
        "colab_type": "code",
        "colab": {}
      },
      "source": [
        "# Storing the cast column as a variable\n",
        "title_cast= ' '.join([text for text in dfimdb_data[\"title_cast\"]])\n",
        "\n",
        "# Word cloud for the overall data checking out which actors are prominent\n",
        "wordcloud = WordCloud(width=800, height=500,random_state=21, \n",
        "                      max_font_size=110).generate(title_cast)\n",
        "\n",
        "#ploting the word cloud\n",
        "plt.figure(figsize=(16,8))\n",
        "plt.imshow(wordcloud, interpolation=\"bilinear\")\n",
        "plt.axis('off')\n",
        "plt.show()"
      ],
      "execution_count": null,
      "outputs": []
    },
    {
      "cell_type": "markdown",
      "metadata": {
        "id": "fFf69es6K8eo",
        "colab_type": "text"
      },
      "source": [
        "Word clouds by genre"
      ]
    },
    {
      "cell_type": "code",
      "metadata": {
        "id": "Sdg48qbcK6pp",
        "colab_type": "code",
        "colab": {}
      },
      "source": [
        "wordcloud = WordCloud(background_color='white', width=800, \n",
        "                      height=400).generate(' '.join(dftrain[dftrain['genres']=='Comedy']['plot_keywords']))\n",
        "plt.figure( figsize=(12,6))\n",
        "plt.title('Comedy')\n",
        "plt.imshow(wordcloud)\n",
        "plt.axis(\"off\")\n",
        "plt.show()"
      ],
      "execution_count": null,
      "outputs": []
    },
    {
      "cell_type": "code",
      "metadata": {
        "id": "baL-Sc_h0fTA",
        "colab_type": "code",
        "colab": {}
      },
      "source": [
        "wordcloud = WordCloud(background_color='white', width=800, height=400).generate(' '.join(dftrain[dftrain['genres'] == 'Drama']\n",
        "                                          ['plot_keywords']))\n",
        "plt.figure( figsize=(12,6))\n",
        "plt.title('Drama')\n",
        "plt.imshow(wordcloud)\n",
        "plt.axis(\"off\")\n",
        "plt.show()"
      ],
      "execution_count": null,
      "outputs": []
    },
    {
      "cell_type": "code",
      "metadata": {
        "id": "gV4p1i9106Qp",
        "colab_type": "code",
        "colab": {}
      },
      "source": [
        "wordcloud = WordCloud(background_color='white', width=800, height=400).generate(' '.join(dftrain[dftrain['genres'] == 'Action']\n",
        "                                          ['plot_keywords']))\n",
        "plt.figure( figsize=(12,6))\n",
        "plt.title('Action')\n",
        "plt.imshow(wordcloud)\n",
        "plt.axis(\"off\")\n",
        "plt.show()"
      ],
      "execution_count": null,
      "outputs": []
    },
    {
      "cell_type": "code",
      "metadata": {
        "id": "eiD3SiHG1DC3",
        "colab_type": "code",
        "colab": {}
      },
      "source": [
        "wordcloud = WordCloud(background_color='white', width=800, height=400).generate(' '.join(dftrain[dftrain['genres'] == 'Thriller']\n",
        "                                          ['plot_keywords']))\n",
        "plt.figure( figsize=(12,6))\n",
        "plt.title('Thriller')\n",
        "plt.imshow(wordcloud)\n",
        "plt.axis(\"off\")\n",
        "plt.show()"
      ],
      "execution_count": null,
      "outputs": []
    },
    {
      "cell_type": "code",
      "metadata": {
        "id": "aQytHSsf1NTg",
        "colab_type": "code",
        "colab": {}
      },
      "source": [
        "wordcloud = WordCloud(background_color='white', width=800, height=400).generate(' '.join(dftrain[dftrain['genres'] == 'Romance']\n",
        "                                          ['plot_keywords']))\n",
        "plt.figure( figsize=(12,6))\n",
        "plt.title('Romance')\n",
        "plt.imshow(wordcloud)\n",
        "plt.axis(\"off\")\n",
        "plt.show()"
      ],
      "execution_count": null,
      "outputs": []
    },
    {
      "cell_type": "code",
      "metadata": {
        "id": "9vAVqK4B1Wcm",
        "colab_type": "code",
        "colab": {}
      },
      "source": [
        "wordcloud = WordCloud(background_color='white', width=800, height=400).generate(' '.join(dftrain[dftrain['genres'] == 'Musical']\n",
        "                                          ['plot_keywords']))\n",
        "plt.figure( figsize=(12,6))\n",
        "plt.title('Musical')\n",
        "plt.imshow(wordcloud)\n",
        "plt.axis(\"off\")\n",
        "plt.show()"
      ],
      "execution_count": null,
      "outputs": []
    },
    {
      "cell_type": "code",
      "metadata": {
        "id": "8knlUPYh1jno",
        "colab_type": "code",
        "colab": {}
      },
      "source": [
        "wordcloud = WordCloud(background_color='white', width=800, height=400).generate(' '.join(dftrain[dftrain['genres'] == 'Crime']\n",
        "                                          ['plot_keywords']))\n",
        "plt.figure( figsize=(12,6))\n",
        "plt.title('Crime')\n",
        "plt.imshow(wordcloud)\n",
        "plt.axis(\"off\")\n",
        "plt.show()"
      ],
      "execution_count": null,
      "outputs": []
    },
    {
      "cell_type": "code",
      "metadata": {
        "id": "Ok-b-Vek1rrH",
        "colab_type": "code",
        "colab": {}
      },
      "source": [
        "wordcloud = WordCloud(background_color='white', width=800, height=400).generate(' '.join(dftrain[dftrain['genres'] == 'Adventure']\n",
        "                                          ['plot_keywords']))\n",
        "plt.figure( figsize=(12,6))\n",
        "plt.title('Adventure')\n",
        "plt.imshow(wordcloud)\n",
        "plt.axis(\"off\")\n",
        "plt.show()"
      ],
      "execution_count": null,
      "outputs": []
    },
    {
      "cell_type": "code",
      "metadata": {
        "id": "Yb4O5wYp14Nf",
        "colab_type": "code",
        "colab": {}
      },
      "source": [
        "wordcloud = WordCloud(background_color='white', width=800, height=400).generate(' '.join(dftrain[dftrain['genres'] == 'Animation']\n",
        "                                          ['plot_keywords']))\n",
        "plt.figure( figsize=(12,6))\n",
        "plt.title('Animation')\n",
        "plt.imshow(wordcloud)\n",
        "plt.axis(\"off\")\n",
        "plt.show()"
      ],
      "execution_count": null,
      "outputs": []
    },
    {
      "cell_type": "code",
      "metadata": {
        "id": "_sUuteZf2MJG",
        "colab_type": "code",
        "colab": {}
      },
      "source": [
        "wordcloud = WordCloud(background_color='white', width=800, height=400).generate(' '.join(dftrain[dftrain['genres'] == 'Children']\n",
        "                                          ['plot_keywords']))\n",
        "plt.figure( figsize=(12,6))\n",
        "plt.title('Children')\n",
        "plt.imshow(wordcloud)\n",
        "plt.axis(\"off\")\n",
        "plt.show()"
      ],
      "execution_count": null,
      "outputs": []
    },
    {
      "cell_type": "markdown",
      "metadata": {
        "id": "6sYpdLlin6NB",
        "colab_type": "text"
      },
      "source": [
        "# Modelling"
      ]
    },
    {
      "cell_type": "code",
      "metadata": {
        "id": "6CAApwkJoBnt",
        "colab_type": "code",
        "colab": {}
      },
      "source": [
        ""
      ],
      "execution_count": null,
      "outputs": []
    },
    {
      "cell_type": "markdown",
      "metadata": {
        "id": "gyyZ0GstoDjW",
        "colab_type": "text"
      },
      "source": [
        "## Model evaluation"
      ]
    },
    {
      "cell_type": "markdown",
      "metadata": {
        "id": "A8LpVa7aoWSd",
        "colab_type": "text"
      },
      "source": [
        "### Insights"
      ]
    },
    {
      "cell_type": "code",
      "metadata": {
        "id": "pXqAkWHwoF4t",
        "colab_type": "code",
        "colab": {}
      },
      "source": [
        ""
      ],
      "execution_count": null,
      "outputs": []
    },
    {
      "cell_type": "markdown",
      "metadata": {
        "id": "NqUsBi2toZIl",
        "colab_type": "text"
      },
      "source": [
        "# Conclusion"
      ]
    },
    {
      "cell_type": "code",
      "metadata": {
        "id": "MD6XUnP1obDi",
        "colab_type": "code",
        "colab": {}
      },
      "source": [
        ""
      ],
      "execution_count": null,
      "outputs": []
    }
  ]
}